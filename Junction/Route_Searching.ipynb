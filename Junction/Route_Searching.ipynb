{
 "cells": [
  {
   "cell_type": "code",
   "execution_count": 1,
   "metadata": {
    "ExecuteTime": {
     "end_time": "2019-11-16T21:11:18.104664Z",
     "start_time": "2019-11-16T21:11:18.099676Z"
    }
   },
   "outputs": [],
   "source": [
    "# !pip install geopy\n",
    "#!pip install gmaps"
   ]
  },
  {
   "cell_type": "code",
   "execution_count": 2,
   "metadata": {
    "ExecuteTime": {
     "end_time": "2019-11-16T21:11:18.403864Z",
     "start_time": "2019-11-16T21:11:18.112642Z"
    }
   },
   "outputs": [],
   "source": [
    "# importing libraries\n",
    "\n",
    "import requests\n",
    "import geopy\n",
    "#import gmaps\n",
    "from geopy.geocoders import Nominatim"
   ]
  },
  {
   "cell_type": "code",
   "execution_count": 3,
   "metadata": {
    "ExecuteTime": {
     "end_time": "2019-11-16T23:36:03.963575Z",
     "start_time": "2019-11-16T23:36:03.307053Z"
    }
   },
   "outputs": [
    {
     "name": "stderr",
     "output_type": "stream",
     "text": [
      "/home/jamie/miniconda3/lib/python3.7/site-packages/ipykernel_launcher.py:4: DeprecationWarning: Using Nominatim with the default \"geopy/1.20.0\" `user_agent` is strongly discouraged, as it violates Nominatim's ToS https://operations.osmfoundation.org/policies/nominatim/ and may possibly cause 403 and 429 HTTP errors. Please specify a custom `user_agent` with `Nominatim(user_agent=\"my-application\")` or by overriding the default `user_agent`: `geopy.geocoders.options.default_user_agent = \"my-application\"`. In geopy 2.0 this will become an exception.\n",
      "  after removing the cwd from sys.path.\n"
     ]
    },
    {
     "name": "stdout",
     "output_type": "stream",
     "text": [
      "Origin:  (60.3091871, 25.0364526)\n",
      "Destination:  (60.2051454, 24.6569676)\n"
     ]
    }
   ],
   "source": [
    "# Get latitude,longitude for Origin and Destination\n",
    "\n",
    "def location_converter(location):\n",
    "    geolocator = Nominatim()\n",
    "    location = geolocator.geocode(location)\n",
    "    return (location.latitude, location.longitude)\n",
    "\n",
    "# Ask for User Input for Origin and Destination\n",
    "# origin = input('Origin: ').replace(' ','+')\n",
    "# destination = input('Destination: ').replace(' ','+')\n",
    "\n",
    "origin = \"Vantaa\"\n",
    "destination = \"Espoo\"\n",
    "\n",
    "#Getting the co-ordinates\n",
    "origin_coordinates = location_converter(origin)\n",
    "print(\"Origin: \", origin_coordinates)\n",
    "destination_coordinates = location_converter(destination)\n",
    "print(\"Destination: \", destination_coordinates)\n"
   ]
  },
  {
   "cell_type": "code",
   "execution_count": 6,
   "metadata": {
    "ExecuteTime": {
     "end_time": "2019-11-16T23:36:09.178256Z",
     "start_time": "2019-11-16T23:36:05.577303Z"
    }
   },
   "outputs": [
    {
     "name": "stdout",
     "output_type": "stream",
     "text": [
      "\n",
      "\n",
      "{'mode': 'WALK', 'duration': 246.0, 'distance': 294.316}\n",
      "{'mode': 'BUS', 'duration': 120.0, 'distance': 1056.8089805928205}\n",
      "{'mode': 'WALK', 'duration': 200.0, 'distance': 259.09700000000004}\n",
      "{'mode': 'RAIL', 'duration': 1080.0, 'distance': 13760.3528036764}\n",
      "{'mode': 'WALK', 'duration': 171.0, 'distance': 221.75900000000001}\n",
      "{'mode': 'RAIL', 'duration': 1200.0, 'distance': 16910.53834756498}\n",
      "{'mode': 'WALK', 'duration': 57.0, 'distance': 63.494}\n",
      "Total duration: 51 min\n",
      "Total distance: 32.57 km\n",
      "Carbon emission: 0.0032048 ton\n",
      "\n",
      "\n",
      "{'mode': 'WALK', 'duration': 1037.0, 'distance': 1252.2899999999993}\n",
      "{'mode': 'RAIL', 'duration': 1901.0, 'distance': 27425.552394054142}\n",
      "{'mode': 'RAIL', 'duration': 1020.0, 'distance': 13813.968448197931}\n",
      "{'mode': 'WALK', 'duration': 57.0, 'distance': 63.494}\n",
      "Total duration: 66 min\n",
      "Total distance: 42.56 km\n",
      "Carbon emission: 0.0046261 ton\n"
     ]
    }
   ],
   "source": [
    "# A function to use queries to get data from HSL API \n",
    "\n",
    "def run_query(query, api_link): \n",
    "    request = requests.post(api_link, json={'query': query})\n",
    "    if request.status_code == 200:\n",
    "        return request.json()\n",
    "    else:\n",
    "        raise Exception(\"Query failed to run by returning code of {}. {}\".format(request.status_code, query))\n",
    "\n",
    "query = \"\"\"\n",
    "{\n",
    "  \n",
    "  plan(\n",
    "    from: {lat: \"\"\"+ str(origin_coordinates[0])+\"\"\", lon: \"\"\"+str(origin_coordinates[1])+\"\"\"}\n",
    "    to: {lat: \"\"\"+ str(destination_coordinates[0])+\"\"\", lon: \"\"\"+ str(destination_coordinates[1])+\"\"\"}\n",
    "    numItineraries: 5\n",
    "  ) {\n",
    "    itineraries {\n",
    "      legs {\n",
    "        mode\n",
    "        duration\n",
    "        distance\n",
    "      }}}}\n",
    "\"\"\"\n",
    "\n",
    "api_link = \"https://api.digitransit.fi/routing/v1/routers/hsl/index/graphql\"\n",
    "\n",
    "\n",
    "# Execute the query and extract the result\n",
    "\n",
    "result = run_query(query,api_link) \n",
    "result_dictionary = result[\"data\"][\"plan\"][\"itineraries\"]\n",
    "\n",
    "route_num = 0\n",
    "for legs in result_dictionary:\n",
    "    route_num += 1\n",
    "    dict_split = dict(legs)\n",
    "    dict_route = dict_split['legs']\n",
    "    # print(\"Route Number: {} \\n{}\".format(route_num, dict_route))\n",
    "    print(\"\\n\")\n",
    "    \n",
    "    duration = 0 \n",
    "    distance = 0 \n",
    "    carbon = 0\n",
    "    \n",
    "    for route in dict_route:\n",
    "        print(route)\n",
    "        \n",
    "        #Calculating duration in min \n",
    "        duration += route['duration']\n",
    "        duration_minute = int(duration/60)\n",
    "        \n",
    "        #Calculating distance in km \n",
    "        distance += route['distance']\n",
    "        distance_km = round(float(distance/1000),2)\n",
    "        \n",
    "        carbon_factor = 0.065\n",
    "        if route['mode'] in (\"RAIL\",\"TRAM\",\"METRO\"):\n",
    "            carbon_factor = 0.065\n",
    "        if route['mode'] == \"BUS\":\n",
    "            carbon_factor = 0.069\n",
    "        if route['mode'] in (\"WALK\"):\n",
    "            carbon_factor = 0\n",
    "        carbon += round(float((carbon_factor * distance_km)/1000),7)\n",
    "        \n",
    "    print(\"Total duration: {} min\".format(duration_minute))\n",
    "    print(\"Total distance: {} km\".format(distance_km))\n",
    "    print(\"Carbon emission: {} ton\".format(carbon))"
   ]
  },
  {
   "cell_type": "code",
   "execution_count": null,
   "metadata": {},
   "outputs": [],
   "source": []
  }
 ],
 "metadata": {
  "kernelspec": {
   "display_name": "Python 3",
   "language": "python",
   "name": "python3"
  },
  "language_info": {
   "codemirror_mode": {
    "name": "ipython",
    "version": 3
   },
   "file_extension": ".py",
   "mimetype": "text/x-python",
   "name": "python",
   "nbconvert_exporter": "python",
   "pygments_lexer": "ipython3",
   "version": "3.7.1"
  },
  "toc": {
   "base_numbering": 1,
   "nav_menu": {},
   "number_sections": true,
   "sideBar": true,
   "skip_h1_title": false,
   "title_cell": "Table of Contents",
   "title_sidebar": "Contents",
   "toc_cell": false,
   "toc_position": {},
   "toc_section_display": true,
   "toc_window_display": false
  },
  "varInspector": {
   "cols": {
    "lenName": 16,
    "lenType": 16,
    "lenVar": 40
   },
   "kernels_config": {
    "python": {
     "delete_cmd_postfix": "",
     "delete_cmd_prefix": "del ",
     "library": "var_list.py",
     "varRefreshCmd": "print(var_dic_list())"
    },
    "r": {
     "delete_cmd_postfix": ") ",
     "delete_cmd_prefix": "rm(",
     "library": "var_list.r",
     "varRefreshCmd": "cat(var_dic_list()) "
    }
   },
   "types_to_exclude": [
    "module",
    "function",
    "builtin_function_or_method",
    "instance",
    "_Feature"
   ],
   "window_display": false
  }
 },
 "nbformat": 4,
 "nbformat_minor": 2
}
