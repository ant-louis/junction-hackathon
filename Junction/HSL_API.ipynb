{
 "cells": [
  {
   "cell_type": "code",
   "execution_count": 13,
   "metadata": {
    "ExecuteTime": {
     "end_time": "2019-11-16T15:41:23.652979Z",
     "start_time": "2019-11-16T15:41:23.388686Z"
    }
   },
   "outputs": [],
   "source": [
    "# importing libraries\n",
    "\n",
    "import requests\n",
    "import geopy\n",
    "from geopy.geocoders import Nominatim"
   ]
  },
  {
   "cell_type": "code",
   "execution_count": 2,
   "metadata": {
    "ExecuteTime": {
     "end_time": "2019-11-16T15:41:23.986087Z",
     "start_time": "2019-11-16T15:41:23.655970Z"
    }
   },
   "outputs": [
    {
     "name": "stderr",
     "output_type": "stream",
     "text": [
      "/home/jamie/miniconda3/lib/python3.7/site-packages/ipykernel_launcher.py:4: DeprecationWarning: Using Nominatim with the default \"geopy/1.20.0\" `user_agent` is strongly discouraged, as it violates Nominatim's ToS https://operations.osmfoundation.org/policies/nominatim/ and may possibly cause 403 and 429 HTTP errors. Please specify a custom `user_agent` with `Nominatim(user_agent=\"my-application\")` or by overriding the default `user_agent`: `geopy.geocoders.options.default_user_agent = \"my-application\"`. In geopy 2.0 this will become an exception.\n",
      "  after removing the cwd from sys.path.\n"
     ]
    },
    {
     "data": {
      "text/plain": [
       "(60.2772907, 25.0357124259391)"
      ]
     },
     "execution_count": 2,
     "metadata": {},
     "output_type": "execute_result"
    }
   ],
   "source": [
    "# Function to convert location to latitude,longitude conversion\n",
    "\n",
    "def location_converter(location):\n",
    "    geolocator = Nominatim()\n",
    "    location = geolocator.geocode(location)\n",
    "    return (location.latitude, location.longitude)\n",
    "\n",
    "location_converter(\"Tapulikaupungintie 17\")\n"
   ]
  },
  {
   "cell_type": "code",
   "execution_count": 3,
   "metadata": {
    "ExecuteTime": {
     "end_time": "2019-11-16T15:43:53.110561Z",
     "start_time": "2019-11-16T15:43:50.608393Z"
    }
   },
   "outputs": [
    {
     "name": "stdout",
     "output_type": "stream",
     "text": [
      "Total Result: \n",
      "{'data': {'plan': {'itineraries': [{'legs': [{'mode': 'WALK', 'duration': 85.0, 'distance': 93.658}, {'mode': 'SUBWAY', 'duration': 1095.0, 'distance': 14327.107475251594}, {'mode': 'WALK', 'duration': 178.0, 'distance': 230.27399999999997}, {'mode': 'BUS', 'duration': 600.0, 'distance': 4700.871085592172}, {'mode': 'WALK', 'duration': 257.0, 'distance': 315.98900000000003}]}, {'legs': [{'mode': 'WALK', 'duration': 85.0, 'distance': 93.658}, {'mode': 'SUBWAY', 'duration': 750.0, 'distance': 10134.178774279346}, {'mode': 'WALK', 'duration': 167.0, 'distance': 215.906}, {'mode': 'BUS', 'duration': 960.0, 'distance': 7537.883879028772}, {'mode': 'WALK', 'duration': 398.0, 'distance': 484.77200000000005}]}]}}}\n",
      "\n",
      " Extracted Data: \n",
      "[{'legs': [{'mode': 'WALK', 'duration': 85.0, 'distance': 93.658}, {'mode': 'SUBWAY', 'duration': 1095.0, 'distance': 14327.107475251594}, {'mode': 'WALK', 'duration': 178.0, 'distance': 230.27399999999997}, {'mode': 'BUS', 'duration': 600.0, 'distance': 4700.871085592172}, {'mode': 'WALK', 'duration': 257.0, 'distance': 315.98900000000003}]}, {'legs': [{'mode': 'WALK', 'duration': 85.0, 'distance': 93.658}, {'mode': 'SUBWAY', 'duration': 750.0, 'distance': 10134.178774279346}, {'mode': 'WALK', 'duration': 167.0, 'distance': 215.906}, {'mode': 'BUS', 'duration': 960.0, 'distance': 7537.883879028772}, {'mode': 'WALK', 'duration': 398.0, 'distance': 484.77200000000005}]}]\n"
     ]
    }
   ],
   "source": [
    "# A function to use requests.post to make the HSL API call\n",
    "\n",
    "def run_query(query): \n",
    "    request = requests.post('https://api.digitransit.fi/routing/v1/routers/hsl/index/graphql', json={'query': query})\n",
    "    if request.status_code == 200:\n",
    "        return request.json()\n",
    "    else:\n",
    "        raise Exception(\"Query failed to run by returning code of {}. {}\".format(request.status_code, query))\n",
    "\n",
    "        \n",
    "# The GraphQL query to get data from HSL      \n",
    "query = \"\"\"\n",
    "{\n",
    "  plan(\n",
    "    from: {lat: 60.168992, lon: 24.932366}\n",
    "    to: {lat: 60.175294, lon: 24.684855}\n",
    "    numItineraries: 2\n",
    "  ) {\n",
    "    itineraries {\n",
    "      legs {\n",
    "        mode\n",
    "        duration\n",
    "        distance\n",
    "      }\n",
    "    }\n",
    "  }\n",
    "}\n",
    "\"\"\"\n",
    "\n",
    "print(\"Total Result: \")\n",
    "result = run_query(query) # Execute the query\n",
    "print (result)\n",
    "\n",
    "print(\"\\n Extracted Data: \")\n",
    "result_dictionary = result[\"data\"][\"plan\"][\"itineraries\"]\n",
    "print(result_dictionary)\n",
    "\n",
    "\n",
    "# print(\"\\n Extracted Legs: \")\n",
    "# for legs in result_dictionary:\n",
    "#     print(\"Final legs values:\")\n",
    "#     print(legs['legs'])    \n",
    "\n",
    "\n"
   ]
  },
  {
   "cell_type": "code",
   "execution_count": 9,
   "metadata": {},
   "outputs": [
    {
     "ename": "ValueError",
     "evalue": "Expected object or value",
     "output_type": "error",
     "traceback": [
      "\u001b[0;31m---------------------------------------------------------------------------\u001b[0m",
      "\u001b[0;31mValueError\u001b[0m                                Traceback (most recent call last)",
      "\u001b[0;32m<ipython-input-9-51c7b4e312e3>\u001b[0m in \u001b[0;36m<module>\u001b[0;34m\u001b[0m\n\u001b[1;32m      2\u001b[0m \u001b[0;32mimport\u001b[0m \u001b[0mpandas\u001b[0m \u001b[0;32mas\u001b[0m \u001b[0mpd\u001b[0m\u001b[0;34m\u001b[0m\u001b[0;34m\u001b[0m\u001b[0m\n\u001b[1;32m      3\u001b[0m \u001b[0;34m\u001b[0m\u001b[0m\n\u001b[0;32m----> 4\u001b[0;31m \u001b[0mtest\u001b[0m \u001b[0;34m=\u001b[0m \u001b[0mpd\u001b[0m\u001b[0;34m.\u001b[0m\u001b[0mread_json\u001b[0m\u001b[0;34m(\u001b[0m\u001b[0;34m\"{'data': {'plan': {'itineraries': [{'legs': [{'mode': 'WALK', 'duration': 85.0, 'distance': 93.658}, {'mode': 'SUBWAY', 'duration': 745.0, 'distance': 10134.178774279346}, {'mode': 'WALK', 'duration': 167.0, 'distance': 215.906}, {'mode': 'BUS', 'duration': 960.0, 'distance': 7537.883879028772}, {'mode': 'WALK', 'duration': 398.0, 'distance': 484.77200000000005}]}, {'legs': [{'mode': 'WALK', 'duration': 85.0, 'distance': 93.658}, {'mode': 'SUBWAY', 'duration': 1096.0, 'distance': 14327.107475251594}, {'mode': 'WALK', 'duration': 180.0, 'distance': 232.88799999999998}, {'mode': 'BUS', 'duration': 660.0, 'distance': 4698.65708143567}, {'mode': 'WALK', 'duration': 257.0, 'distance': 315.98900000000003}]}]}}}\"\u001b[0m\u001b[0;34m)\u001b[0m\u001b[0;34m\u001b[0m\u001b[0;34m\u001b[0m\u001b[0m\n\u001b[0m",
      "\u001b[0;32m~/miniconda3/lib/python3.7/site-packages/pandas/io/json/json.py\u001b[0m in \u001b[0;36mread_json\u001b[0;34m(path_or_buf, orient, typ, dtype, convert_axes, convert_dates, keep_default_dates, numpy, precise_float, date_unit, encoding, lines, chunksize, compression)\u001b[0m\n\u001b[1;32m    420\u001b[0m         \u001b[0;32mreturn\u001b[0m \u001b[0mjson_reader\u001b[0m\u001b[0;34m\u001b[0m\u001b[0;34m\u001b[0m\u001b[0m\n\u001b[1;32m    421\u001b[0m \u001b[0;34m\u001b[0m\u001b[0m\n\u001b[0;32m--> 422\u001b[0;31m     \u001b[0mresult\u001b[0m \u001b[0;34m=\u001b[0m \u001b[0mjson_reader\u001b[0m\u001b[0;34m.\u001b[0m\u001b[0mread\u001b[0m\u001b[0;34m(\u001b[0m\u001b[0;34m)\u001b[0m\u001b[0;34m\u001b[0m\u001b[0;34m\u001b[0m\u001b[0m\n\u001b[0m\u001b[1;32m    423\u001b[0m     \u001b[0;32mif\u001b[0m \u001b[0mshould_close\u001b[0m\u001b[0;34m:\u001b[0m\u001b[0;34m\u001b[0m\u001b[0;34m\u001b[0m\u001b[0m\n\u001b[1;32m    424\u001b[0m         \u001b[0;32mtry\u001b[0m\u001b[0;34m:\u001b[0m\u001b[0;34m\u001b[0m\u001b[0;34m\u001b[0m\u001b[0m\n",
      "\u001b[0;32m~/miniconda3/lib/python3.7/site-packages/pandas/io/json/json.py\u001b[0m in \u001b[0;36mread\u001b[0;34m(self)\u001b[0m\n\u001b[1;32m    527\u001b[0m             )\n\u001b[1;32m    528\u001b[0m         \u001b[0;32melse\u001b[0m\u001b[0;34m:\u001b[0m\u001b[0;34m\u001b[0m\u001b[0;34m\u001b[0m\u001b[0m\n\u001b[0;32m--> 529\u001b[0;31m             \u001b[0mobj\u001b[0m \u001b[0;34m=\u001b[0m \u001b[0mself\u001b[0m\u001b[0;34m.\u001b[0m\u001b[0m_get_object_parser\u001b[0m\u001b[0;34m(\u001b[0m\u001b[0mself\u001b[0m\u001b[0;34m.\u001b[0m\u001b[0mdata\u001b[0m\u001b[0;34m)\u001b[0m\u001b[0;34m\u001b[0m\u001b[0;34m\u001b[0m\u001b[0m\n\u001b[0m\u001b[1;32m    530\u001b[0m         \u001b[0mself\u001b[0m\u001b[0;34m.\u001b[0m\u001b[0mclose\u001b[0m\u001b[0;34m(\u001b[0m\u001b[0;34m)\u001b[0m\u001b[0;34m\u001b[0m\u001b[0;34m\u001b[0m\u001b[0m\n\u001b[1;32m    531\u001b[0m         \u001b[0;32mreturn\u001b[0m \u001b[0mobj\u001b[0m\u001b[0;34m\u001b[0m\u001b[0;34m\u001b[0m\u001b[0m\n",
      "\u001b[0;32m~/miniconda3/lib/python3.7/site-packages/pandas/io/json/json.py\u001b[0m in \u001b[0;36m_get_object_parser\u001b[0;34m(self, json)\u001b[0m\n\u001b[1;32m    544\u001b[0m         \u001b[0mobj\u001b[0m \u001b[0;34m=\u001b[0m \u001b[0;32mNone\u001b[0m\u001b[0;34m\u001b[0m\u001b[0;34m\u001b[0m\u001b[0m\n\u001b[1;32m    545\u001b[0m         \u001b[0;32mif\u001b[0m \u001b[0mtyp\u001b[0m \u001b[0;34m==\u001b[0m \u001b[0;34m'frame'\u001b[0m\u001b[0;34m:\u001b[0m\u001b[0;34m\u001b[0m\u001b[0;34m\u001b[0m\u001b[0m\n\u001b[0;32m--> 546\u001b[0;31m             \u001b[0mobj\u001b[0m \u001b[0;34m=\u001b[0m \u001b[0mFrameParser\u001b[0m\u001b[0;34m(\u001b[0m\u001b[0mjson\u001b[0m\u001b[0;34m,\u001b[0m \u001b[0;34m**\u001b[0m\u001b[0mkwargs\u001b[0m\u001b[0;34m)\u001b[0m\u001b[0;34m.\u001b[0m\u001b[0mparse\u001b[0m\u001b[0;34m(\u001b[0m\u001b[0;34m)\u001b[0m\u001b[0;34m\u001b[0m\u001b[0;34m\u001b[0m\u001b[0m\n\u001b[0m\u001b[1;32m    547\u001b[0m \u001b[0;34m\u001b[0m\u001b[0m\n\u001b[1;32m    548\u001b[0m         \u001b[0;32mif\u001b[0m \u001b[0mtyp\u001b[0m \u001b[0;34m==\u001b[0m \u001b[0;34m'series'\u001b[0m \u001b[0;32mor\u001b[0m \u001b[0mobj\u001b[0m \u001b[0;32mis\u001b[0m \u001b[0;32mNone\u001b[0m\u001b[0;34m:\u001b[0m\u001b[0;34m\u001b[0m\u001b[0;34m\u001b[0m\u001b[0m\n",
      "\u001b[0;32m~/miniconda3/lib/python3.7/site-packages/pandas/io/json/json.py\u001b[0m in \u001b[0;36mparse\u001b[0;34m(self)\u001b[0m\n\u001b[1;32m    636\u001b[0m \u001b[0;34m\u001b[0m\u001b[0m\n\u001b[1;32m    637\u001b[0m         \u001b[0;32melse\u001b[0m\u001b[0;34m:\u001b[0m\u001b[0;34m\u001b[0m\u001b[0;34m\u001b[0m\u001b[0m\n\u001b[0;32m--> 638\u001b[0;31m             \u001b[0mself\u001b[0m\u001b[0;34m.\u001b[0m\u001b[0m_parse_no_numpy\u001b[0m\u001b[0;34m(\u001b[0m\u001b[0;34m)\u001b[0m\u001b[0;34m\u001b[0m\u001b[0;34m\u001b[0m\u001b[0m\n\u001b[0m\u001b[1;32m    639\u001b[0m \u001b[0;34m\u001b[0m\u001b[0m\n\u001b[1;32m    640\u001b[0m         \u001b[0;32mif\u001b[0m \u001b[0mself\u001b[0m\u001b[0;34m.\u001b[0m\u001b[0mobj\u001b[0m \u001b[0;32mis\u001b[0m \u001b[0;32mNone\u001b[0m\u001b[0;34m:\u001b[0m\u001b[0;34m\u001b[0m\u001b[0;34m\u001b[0m\u001b[0m\n",
      "\u001b[0;32m~/miniconda3/lib/python3.7/site-packages/pandas/io/json/json.py\u001b[0m in \u001b[0;36m_parse_no_numpy\u001b[0;34m(self)\u001b[0m\n\u001b[1;32m    851\u001b[0m         \u001b[0;32mif\u001b[0m \u001b[0morient\u001b[0m \u001b[0;34m==\u001b[0m \u001b[0;34m\"columns\"\u001b[0m\u001b[0;34m:\u001b[0m\u001b[0;34m\u001b[0m\u001b[0;34m\u001b[0m\u001b[0m\n\u001b[1;32m    852\u001b[0m             self.obj = DataFrame(\n\u001b[0;32m--> 853\u001b[0;31m                 loads(json, precise_float=self.precise_float), dtype=None)\n\u001b[0m\u001b[1;32m    854\u001b[0m         \u001b[0;32melif\u001b[0m \u001b[0morient\u001b[0m \u001b[0;34m==\u001b[0m \u001b[0;34m\"split\"\u001b[0m\u001b[0;34m:\u001b[0m\u001b[0;34m\u001b[0m\u001b[0;34m\u001b[0m\u001b[0m\n\u001b[1;32m    855\u001b[0m             decoded = {str(k): v for k, v in compat.iteritems(\n",
      "\u001b[0;31mValueError\u001b[0m: Expected object or value"
     ]
    }
   ],
   "source": [
    "import numpy as np\n",
    "import pandas as pd\n",
    "\n",
    "\n",
    "test = pd.read_json(\"{'data': {'plan': {'itineraries': [{'legs': [{'mode': 'WALK', 'duration': 85.0, 'distance': 93.658}, {'mode': 'SUBWAY', 'duration': 745.0, 'distance': 10134.178774279346}, {'mode': 'WALK', 'duration': 167.0, 'distance': 215.906}, {'mode': 'BUS', 'duration': 960.0, 'distance': 7537.883879028772}, {'mode': 'WALK', 'duration': 398.0, 'distance': 484.77200000000005}]}, {'legs': [{'mode': 'WALK', 'duration': 85.0, 'distance': 93.658}, {'mode': 'SUBWAY', 'duration': 1096.0, 'distance': 14327.107475251594}, {'mode': 'WALK', 'duration': 180.0, 'distance': 232.88799999999998}, {'mode': 'BUS', 'duration': 660.0, 'distance': 4698.65708143567}, {'mode': 'WALK', 'duration': 257.0, 'distance': 315.98900000000003}]}]}}}\")"
   ]
  },
  {
   "cell_type": "code",
   "execution_count": 10,
   "metadata": {},
   "outputs": [
    {
     "name": "stdout",
     "output_type": "stream",
     "text": [
      "{'legs': [{'mode': 'WALK', 'duration': 85.0, 'distance': 93.658}, {'mode': 'SUBWAY', 'duration': 1095.0, 'distance': 14327.107475251594}, {'mode': 'WALK', 'duration': 178.0, 'distance': 230.27399999999997}, {'mode': 'BUS', 'duration': 600.0, 'distance': 4700.871085592172}, {'mode': 'WALK', 'duration': 257.0, 'distance': 315.98900000000003}]}\n"
     ]
    }
   ],
   "source": [
    "\n",
    "import json  \n",
    "import pandas as pd  \n",
    "from pandas.io.json import json_normalize  \n",
    "from pandas.io.json import loads\n",
    "  \n",
    "  \n",
    "# tells us parent node is 'programs' \n",
    "nycphil = json_normalize(result_dictionary) \n",
    "nycphil.head(3) \n",
    "ma = result_dictionary[0]\n",
    "#print(ma)\n",
    "\n",
    "#ii = json.loads(str(ma))\n",
    "#print(\"'\", ma,\"'\")\n",
    "\n",
    "mm = '\"{}\"'\n",
    "ss = mm.format(ma)\n",
    "#print (ss) \n",
    "\n",
    "maf = loads(ss)\n",
    "\n",
    "print(maf)\n",
    "\n"
   ]
  },
  {
   "cell_type": "code",
   "execution_count": 12,
   "metadata": {},
   "outputs": [],
   "source": [
    "import json\n",
    "mn = json.dumps(ma, indent=4)"
   ]
  },
  {
   "cell_type": "markdown",
   "metadata": {},
   "source": []
  }
 ],
 "metadata": {
  "kernelspec": {
   "display_name": "Python 3",
   "language": "python",
   "name": "python3"
  },
  "language_info": {
   "codemirror_mode": {
    "name": "ipython",
    "version": 3
   },
   "file_extension": ".py",
   "mimetype": "text/x-python",
   "name": "python",
   "nbconvert_exporter": "python",
   "pygments_lexer": "ipython3",
   "version": "3.7.1"
  },
  "toc": {
   "base_numbering": 1,
   "nav_menu": {},
   "number_sections": true,
   "sideBar": true,
   "skip_h1_title": false,
   "title_cell": "Table of Contents",
   "title_sidebar": "Contents",
   "toc_cell": false,
   "toc_position": {},
   "toc_section_display": true,
   "toc_window_display": false
  },
  "varInspector": {
   "cols": {
    "lenName": 16,
    "lenType": 16,
    "lenVar": 40
   },
   "kernels_config": {
    "python": {
     "delete_cmd_postfix": "",
     "delete_cmd_prefix": "del ",
     "library": "var_list.py",
     "varRefreshCmd": "print(var_dic_list())"
    },
    "r": {
     "delete_cmd_postfix": ") ",
     "delete_cmd_prefix": "rm(",
     "library": "var_list.r",
     "varRefreshCmd": "cat(var_dic_list()) "
    }
   },
   "types_to_exclude": [
    "module",
    "function",
    "builtin_function_or_method",
    "instance",
    "_Feature"
   ],
   "window_display": false
  }
 },
 "nbformat": 4,
 "nbformat_minor": 2
}
