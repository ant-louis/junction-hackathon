{
  "cells": [
    {
      "metadata": {},
      "cell_type": "markdown",
      "source": "# Deploy model"
    },
    {
      "metadata": {
        "trusted": true
      },
      "cell_type": "code",
      "source": "from azureml.core import Workspace\nfrom azureml.core.model import Model\n\n# Connect to workspace\nws = Workspace.from_config(path=\"./config/ws_config.json\")\n",
      "execution_count": 7,
      "outputs": []
    },
    {
      "metadata": {
        "trusted": true
      },
      "cell_type": "code",
      "source": "# Register model\nmodel = Model.register(workspace = ws,\n                        model_path =\"models/svc.pkl\",\n                        model_name = \"svc\",\n                        tags = {\"pkl\": \"demo\"},\n                        description = \"SVC to predict the crowdness in an area\",)",
      "execution_count": null,
      "outputs": []
    },
    {
      "metadata": {
        "trusted": true
      },
      "cell_type": "code",
      "source": "# \nimport json\nimport numpy as np\nimport os\nfrom sklearn.externals import joblib\nfrom sklearn.linear_model import Ridge\n\nfrom inference_schema.schema_decorators import input_schema, output_schema\nfrom inference_schema.parameter_types.numpy_parameter_type import NumpyParameterType\n\n\ndef init():\n    global model\n    # AZUREML_MODEL_DIR is an environment variable created during deployment. Join this path with the filename of the model file.\n    # It holds the path to the directory that contains the deployed model (./azureml-models/$MODEL_NAME/$VERSION).\n    # If there are multiple models, this value is the path to the directory containing all deployed models (./azureml-models).\n    # Alternatively: model_path = Model.get_model_path('sklearn_mnist')\n    model_path = os.path.join(os.getenv('AZUREML_MODEL_DIR'), 'svc.pkl')\n    # Deserialize the model file back into a sklearn model\n    model = joblib.load(model_path)\n\ndef run(data):\n    try:\n        result = model.predict(data)\n        # You can return any data type, as long as it is JSON serializable.\n        return result.tolist()\n    except Exception as e:\n        error = str(e)\n        return error",
      "execution_count": null,
      "outputs": []
    }
  ],
  "metadata": {
    "kernelspec": {
      "name": "python36",
      "display_name": "Python 3.6",
      "language": "python"
    },
    "language_info": {
      "mimetype": "text/x-python",
      "nbconvert_exporter": "python",
      "name": "python",
      "pygments_lexer": "ipython3",
      "version": "3.6.6",
      "file_extension": ".py",
      "codemirror_mode": {
        "version": 3,
        "name": "ipython"
      }
    }
  },
  "nbformat": 4,
  "nbformat_minor": 2
}