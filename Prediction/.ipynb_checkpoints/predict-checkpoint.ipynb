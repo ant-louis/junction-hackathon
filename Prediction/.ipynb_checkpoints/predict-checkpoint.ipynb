{
 "cells": [
  {
   "cell_type": "code",
   "execution_count": 19,
   "metadata": {},
   "outputs": [
    {
     "name": "stdout",
     "output_type": "stream",
     "text": [
      "usual\n"
     ]
    }
   ],
   "source": [
    "from sklearn.externals import joblib\n",
    "import numpy as np\n",
    "\n",
    "\n",
    "def predict(coordinates):\n",
    "    \"\"\"\n",
    "    By taking the coordinates as inputs, predict the clustering class from:\n",
    "        1. 'not_crowded' : between 0-3 people\n",
    "        2. 'usual': between 3-21 people\n",
    "        3. 'crowded': between 21-109 people\n",
    "        4. 'very_crowded': more than 109 people\n",
    "    \"\"\"\n",
    "    # Load the models from disk\n",
    "    kmeans = joblib.load('models/kmeans.pkl')\n",
    "    model = joblib.load('models/svc.pkl')\n",
    "    \n",
    "    # Predict the clustering id given coordinates\n",
    "    cluster = kmeans.predict(coordinates)\n",
    "    \n",
    "    # Predict the crowdness given the clustering id\n",
    "    crowdness = model.predict([cluster])\n",
    "    \n",
    "    # Return crowdness\n",
    "    return crowdness[0]\n",
    "\n",
    "\n",
    "# Input: (lat,long)\n",
    "lat = 60.253\n",
    "long = 22.315\n",
    "\n",
    "# Predict crowdness\n",
    "coordinates = [[lat, long]]\n",
    "res = predict(coordinates)\n",
    "print(res)\n",
    "    "
   ]
  },
  {
   "cell_type": "code",
   "execution_count": null,
   "metadata": {},
   "outputs": [],
   "source": []
  }
 ],
 "metadata": {
  "kernelspec": {
   "display_name": "Python 3",
   "language": "python",
   "name": "python3"
  },
  "language_info": {
   "codemirror_mode": {
    "name": "ipython",
    "version": 3
   },
   "file_extension": ".py",
   "mimetype": "text/x-python",
   "name": "python",
   "nbconvert_exporter": "python",
   "pygments_lexer": "ipython3",
   "version": "3.6.0"
  }
 },
 "nbformat": 4,
 "nbformat_minor": 2
}
