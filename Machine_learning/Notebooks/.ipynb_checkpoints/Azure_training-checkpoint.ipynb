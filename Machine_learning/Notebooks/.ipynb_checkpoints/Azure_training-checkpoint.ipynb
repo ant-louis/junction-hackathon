{
 "cells": [
  {
   "cell_type": "code",
   "execution_count": null,
   "metadata": {},
   "outputs": [],
   "source": [
    "#---------------------------------------\n",
    "# Create a workspace\n",
    "#---------------------------------------\n",
    "import azureml.core\n",
    "\n",
    "print(azureml.core.VERSION)\n",
    "\n",
    "from azureml.core import Workspace\n",
    "\n",
    "ws = Workspace.create(name='Appworkspace',\n",
    "            subscription_id='2bf014a6-b217-4034-a315-cb95042c9087', \n",
    "            resource_group='rgAppworkspace',\n",
    "            create_resource_group = True,\n",
    "            location='North Europe'\n",
    "            )\n",
    "\n",
    "print('AMLS Workspace created')"
   ]
  }
 ],
 "metadata": {
  "kernelspec": {
   "display_name": "Python 3",
   "language": "python",
   "name": "python3"
  },
  "language_info": {
   "codemirror_mode": {
    "name": "ipython",
    "version": 3
   },
   "file_extension": ".py",
   "mimetype": "text/x-python",
   "name": "python",
   "nbconvert_exporter": "python",
   "pygments_lexer": "ipython3",
   "version": "3.6.0"
  }
 },
 "nbformat": 4,
 "nbformat_minor": 2
}
