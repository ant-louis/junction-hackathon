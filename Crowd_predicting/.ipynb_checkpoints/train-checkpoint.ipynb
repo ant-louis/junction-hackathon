{
 "cells": [
  {
   "cell_type": "code",
   "execution_count": 20,
   "metadata": {},
   "outputs": [],
   "source": [
    "import time, datetime\n",
    "from contextlib import contextmanager\n",
    "import pandas as pd\n",
    "import numpy as np\n",
    "\n",
    "from sklearn.model_selection import train_test_split\n",
    "from sklearn.linear_model import LinearRegression\n",
    "from sklearn.metrics import mean_squared_error\n",
    "from sklearn.externals import joblib"
   ]
  },
  {
   "cell_type": "code",
   "execution_count": 21,
   "metadata": {},
   "outputs": [],
   "source": [
    "@contextmanager\n",
    "def measure_time(label):\n",
    "    \"\"\"\n",
    "    Context manager to measure time of computation.\n",
    "    \"\"\"\n",
    "    start = time.time()\n",
    "    yield\n",
    "    end = time.time()\n",
    "    print('Duration of [{}]: {}'.format(label, datetime.timedelta(seconds=end-start)))"
   ]
  },
  {
   "cell_type": "code",
   "execution_count": 22,
   "metadata": {},
   "outputs": [],
   "source": [
    "def load_data(path, to_split=True):\n",
    "    \"\"\"\n",
    "    Load the csv file and returns (X,y).\n",
    "    \"\"\"\n",
    "    # Read the csv file\n",
    "    df = pd.read_csv(path, header=0, index_col=0)\n",
    "\n",
    "    # Get the output values\n",
    "    y = df['stop_passengers'].values.squeeze()\n",
    "\n",
    "    # Get the input values\n",
    "    features = ['stop_lat', 'stop_long']\n",
    "    X = df[features].values.squeeze()\n",
    "    \n",
    "    # Split train and test data\n",
    "    X_train, X_test, y_train, y_test = train_test_split(X, y, test_size=0.2)\n",
    "\n",
    "    if to_split:\n",
    "        return X_train, X_test, y_train, y_test\n",
    "    else:\n",
    "        return X, y\n",
    "\n",
    "\n",
    "# Load the cleaned data\n",
    "path = './data/cleaned_HSL_data.csv'\n",
    "X_train, X_test, y_train, y_test = load_data(path)"
   ]
  },
  {
   "cell_type": "code",
   "execution_count": 23,
   "metadata": {},
   "outputs": [
    {
     "name": "stdout",
     "output_type": "stream",
     "text": [
      "Duration of [Training...]: 0:00:00.001913\n",
      "=================================================================\n",
      "Linear Regression Training set MSE: 1648780.277135291\n",
      "=================================================================\n",
      "Linear Regression Test set MSE: 874116.5471934967\n",
      "=================================================================\n"
     ]
    }
   ],
   "source": [
    "def train(path, to_split=True):\n",
    "    \"\"\"\n",
    "    Train the model.\n",
    "    \"\"\"\n",
    "    filename = \"models/lin_reg.pkl\"\n",
    "    \n",
    "    # Load the training (and testing) set(s)\n",
    "    if to_split:\n",
    "        X_train, X_test, y_train, y_test = load_data(path, to_split=to_split)\n",
    "    else:\n",
    "        X_train, y_train = load_data(path, to_split=to_split)\n",
    "\n",
    "    with measure_time('Training...'):\n",
    "        model = LinearRegression()\n",
    "        model.fit(X_train, y_train)\n",
    "        joblib.dump(model, filename) \n",
    "        \n",
    "    y_pred = model.predict(X_train)\n",
    "    print(\"=================================================================\")\n",
    "    print(\"Linear Regression Training set MSE: {}\".format(mean_squared_error(y_train, y_pred)))\n",
    "    print(\"=================================================================\")\n",
    "    \n",
    "    \n",
    "    if to_split:\n",
    "        y_pred = model.predict(X_test)\n",
    "        print(\"Linear Regression Test set MSE: {}\".format(mean_squared_error(y_test, y_pred)))\n",
    "        print(\"=================================================================\")\n",
    "        \n",
    "        \n",
    "# Train our model\n",
    "train(path)"
   ]
  },
  {
   "cell_type": "code",
   "execution_count": 24,
   "metadata": {},
   "outputs": [
    {
     "name": "stdout",
     "output_type": "stream",
     "text": [
      "934.9417094129452\n"
     ]
    }
   ],
   "source": [
    "import math\n",
    "print(math.sqrt(874116))"
   ]
  },
  {
   "cell_type": "code",
   "execution_count": null,
   "metadata": {},
   "outputs": [],
   "source": []
  }
 ],
 "metadata": {
  "kernelspec": {
   "display_name": "Python 3",
   "language": "python",
   "name": "python3"
  },
  "language_info": {
   "codemirror_mode": {
    "name": "ipython",
    "version": 3
   },
   "file_extension": ".py",
   "mimetype": "text/x-python",
   "name": "python",
   "nbconvert_exporter": "python",
   "pygments_lexer": "ipython3",
   "version": "3.6.0"
  }
 },
 "nbformat": 4,
 "nbformat_minor": 2
}
